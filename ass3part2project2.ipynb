{
 "cells": [
  {
   "cell_type": "markdown",
   "id": "a710151a-40e8-455b-be31-d2556e91fb28",
   "metadata": {},
   "source": [
    "Let us inport all the libraries required for this project"
   ]
  },
  {
   "cell_type": "code",
   "execution_count": 2,
   "id": "47ce1784-1631-403e-ab7c-8cba5d164a0a",
   "metadata": {},
   "outputs": [
    {
     "name": "stderr",
     "output_type": "stream",
     "text": [
      "Matplotlib is building the font cache; this may take a moment.\n"
     ]
    }
   ],
   "source": [
    "import numpy as np\n",
    "import pandas as pd\n",
    "import seaborn as sns\n",
    "import matplotlib.pyplot as plt\n",
    "from sklearn.model_selection import train_test_split\n",
    "from sklearn.linear_model import LogisticRegression\n",
    "from sklearn.metrics import confusion_matrix, classification_report, roc_curve, roc_auc_score"
   ]
  },
  {
   "cell_type": "markdown",
   "id": "8b18773b-d151-417c-8881-1b868718d4ca",
   "metadata": {},
   "source": [
    "Let us get the dataset, this time I will use a url instead of saving the dataset"
   ]
  },
  {
   "cell_type": "code",
   "execution_count": null,
   "id": "0729b7f0-9665-45f2-a56b-ba78a9d1bc03",
   "metadata": {},
   "outputs": [],
   "source": [
    "#We will use the Telco Customer churn dataset\n",
    "url = 'https://raw.githubusercontent.com/datasciencedojo/datasets/master/telco-customer-churn/telco_customer_churn.csv'\n",
    "df = pd.read_csv(url)\n",
    "\n",
    "#This will disply the first rows of code\n",
    "df.head()"
   ]
  },
  {
   "cell_type": "markdown",
   "id": "80b51b12-bd36-439a-b44c-996397c6dec8",
   "metadata": {},
   "source": [
    "In the next step we will check the missing values\n"
   ]
  },
  {
   "cell_type": "code",
   "execution_count": null,
   "id": "cd65fb6f-b537-4073-ab07-93c33d510242",
   "metadata": {
    "scrolled": true
   },
   "outputs": [],
   "source": [
    "df.isnull().sum()"
   ]
  },
  {
   "cell_type": "markdown",
   "id": "365fa78c-5f1d-4f39-9a0b-44e5ffb3ed2d",
   "metadata": {},
   "source": [
    "If there are any missing values, this line of code will remove the rows with the missing values"
   ]
  },
  {
   "cell_type": "code",
   "execution_count": null,
   "id": "d1c29edb-65d7-4bb7-ac45-d472a960df5d",
   "metadata": {},
   "outputs": [],
   "source": [
    "df.dropna(inplace=True)"
   ]
  },
  {
   "cell_type": "markdown",
   "id": "dc6ac537-da3a-499b-a87a-7904a8de96ff",
   "metadata": {},
   "source": [
    "Now we convert categorical variable to numerical values using 1-hot encoding"
   ]
  },
  {
   "cell_type": "code",
   "execution_count": null,
   "id": "480a5102-bad5-41db-b5c2-c83a2435a321",
   "metadata": {},
   "outputs": [],
   "source": [
    "df=pd.get_dummies(df,drop_first=True)"
   ]
  },
  {
   "cell_type": "markdown",
   "id": "ef0495ca-e0be-4bea-9188-78d5a2fbbdcb",
   "metadata": {},
   "source": [
    "Let's split the  dataset into Training and Testing sets"
   ]
  },
  {
   "cell_type": "code",
   "execution_count": null,
   "id": "def03295-73f7-46f2-9363-e8f8275c0785",
   "metadata": {},
   "outputs": [],
   "source": [
    "X = df.drop('Churn_Yes',axis=1)\n",
    "y = df['Churn_Yes']\n",
    "X_train, X_test, y_train, y_test = train_test_split(X, y, test_size=0.2,random_state=42)"
   ]
  },
  {
   "cell_type": "markdown",
   "id": "aef91f38-5018-4f90-bf78-b2311d818008",
   "metadata": {},
   "source": [
    "Let's get a basic feel for the data using exploratory data analysis"
   ]
  },
  {
   "cell_type": "code",
   "execution_count": null,
   "id": "d05f2699-66d8-4194-8ce7-f45a290981c9",
   "metadata": {},
   "outputs": [],
   "source": [
    "sns.countplot(x='Churn', data=df)\n",
    "plt.show()\n",
    "\n",
    "#Distribution of numerical features\n",
    "dfhist(bins=30, figsize= (12,8))\n",
    "sns.heatmap(df.corr(), annot=True,fmt='.2f',cmap='coolwarm')\n",
    "plt.show()"
   ]
  },
  {
   "cell_type": "markdown",
   "id": "baa93dc3-28f0-4ace-998f-8da0200bfa5a",
   "metadata": {},
   "source": [
    "Hear we build the Logistic Regression Model"
   ]
  },
  {
   "cell_type": "code",
   "execution_count": null,
   "id": "209380f8-f151-408e-a181-17ce7d685d02",
   "metadata": {},
   "outputs": [],
   "source": [
    "#We will fit the logistic regression model using the training data\n",
    "model = LogisticRegression(max_iter=1000)\n",
    "model.fit(X_train, y_train)"
   ]
  },
  {
   "cell_type": "markdown",
   "id": "dcb27617-913f-4f05-b4d6-d047354dc250",
   "metadata": {},
   "source": [
    "We will use the model to make predictions and evaluate performance"
   ]
  },
  {
   "cell_type": "code",
   "execution_count": null,
   "id": "b99fee0b-a839-4a00-ad8c-687cfbce548b",
   "metadata": {},
   "outputs": [],
   "source": [
    "#Predict churn on the test data\n",
    "y_pred=model.predict(X_test)\n",
    "y_pred_proba = model.predict_proba(X_test)[:,1]"
   ]
  },
  {
   "cell_type": "markdown",
   "id": "2a6e9257-01be-4b9a-b52b-3dc76510d7e9",
   "metadata": {},
   "source": [
    "We evaluate the model using metrics and visualization methods"
   ]
  },
  {
   "cell_type": "code",
   "execution_count": null,
   "id": "e798c285-2250-4606-b194-226bf9965069",
   "metadata": {},
   "outputs": [],
   "source": [
    "#Confusion matrix\n",
    "cm = confusion_matrix(y_test, y_pred)\n",
    "print(\"Confusion Matrix:\\n\", cm)\n",
    "\n",
    "#Classification Report\n",
    "cr= classification_report(y_test,y_pred)\n",
    "print(\"Classification Report:\\n\", cr)\n",
    "\n",
    "#ROC Curve\n",
    "fpr, tpr, thresholds= roc_curve(ytest, ypred_proba)\n",
    "plt.plot(fpr,tpr,marker='.')\n",
    "plt.xlabel('False Positive Rate')\n",
    "plt.ylabel('True Potitive Rate')\n",
    "plt.title('ROC Curve')\n",
    "plt.show()\n",
    "\n",
    "#AUC Score\n",
    "auc = roc_auc_score(y_test,y_pred_proba)\n",
    "print(f\"AUC Score:{auc}\") #higher auc score indicates better model performance"
   ]
  },
  {
   "cell_type": "markdown",
   "id": "222c146f-8077-43b1-a947-5d2ea4b2230a",
   "metadata": {},
   "source": [
    "Potential Improvements\n"
   ]
  },
  {
   "cell_type": "markdown",
   "id": "5776b95a-22f1-44ff-9538-8b206ea62e67",
   "metadata": {},
   "source": [
    "#Feature engineering, we will try out tenure buckets\n",
    "df['tenure_bucket'] = pd.cut(df['tenure'], bins=[0,12,24,36,48,60,72], labels=False)"
   ]
  },
  {
   "cell_type": "code",
   "execution_count": null,
   "id": "94f5c54c-5191-4959-ad0e-68de36c7db25",
   "metadata": {},
   "outputs": [],
   "source": [
    "#We will experiment with the classification algorithm Random Forest\n",
    "from sklearn.ensemble import RandomForestClassifier\n",
    "rf_model = RandomForestClassifier(random_state=42)\n",
    "rf_model.fit(X_train,y_train)\n",
    "y_pred_rf = rf_model.predict(X_test)\n",
    "\n"
   ]
  },
  {
   "cell_type": "code",
   "execution_count": 18,
   "id": "a2c35558-13cb-492a-88ce-f5c1f83ecde2",
   "metadata": {},
   "outputs": [],
   "source": [
    "#we will use Hyperparameter tuning using Grid Search\n",
    "from sklearn.model_selection import GridSearchCV\n",
    "\n",
    "param_grid = {\n",
    "    'C': [0.1,1,10,100],\n",
    "    'solver':[lbfgs',liblinear']\n",
    "}\n",
    "grid_search = \n",
    "GridSearchCV(LogisticRegression(max_iter=1000), param_grid, cv=5, scoring= 'roc_auc')\n",
    "grid_search.fit(X_train,y_train,y_train)\n",
    "best_model=grid_search.best_estimator_"
   ]
  },
  {
   "cell_type": "markdown",
   "id": "a0a085d7-5b23-4559-9188-147356774a42",
   "metadata": {},
   "source": [
    "We will handle any class imbalance using SMOTE(Synthetic Minority Over-sampling Technique"
   ]
  },
  {
   "cell_type": "code",
   "execution_count": null,
   "id": "67cd8bcc-592e-49e4-b145-d09b26c13a45",
   "metadata": {},
   "outputs": [],
   "source": [
    "from imblearn.over_sampling import SMOTE\n",
    "smote = SMOTE(random_state=42)\n",
    "X_resampled, y_resampled= smote.fit_resampled(X_train,y_train)\n",
    "model.fit(X_resampled,y_resampled)"
   ]
  },
  {
   "cell_type": "markdown",
   "id": "84797814-dc9c-4d5c-8aa5-8756fa3ab641",
   "metadata": {},
   "source": [
    "We will use cross-validation to ensure that the mode's performance is consistent accross different sibsets of data"
   ]
  },
  {
   "cell_type": "code",
   "execution_count": null,
   "id": "f73694f7-262c-4693-82a7-59ee66b351b7",
   "metadata": {},
   "outputs": [],
   "source": [
    "from sklearn.model_selection import cross_val_score\n",
    "\n",
    "cv_scores = cross_val_score(model,X,y, cv=5, scoring= 'roc_auc')\n",
    "print(f'Cross-validated AUC scores:{cv_scores}')\n",
    "print(f\"Mean cross-validated AUC score: {np.mean(cv_scores)}\")"
   ]
  }
 ],
 "metadata": {
  "kernelspec": {
   "display_name": "Python 3 (ipykernel)",
   "language": "python",
   "name": "python3"
  },
  "language_info": {
   "codemirror_mode": {
    "name": "ipython",
    "version": 3
   },
   "file_extension": ".py",
   "mimetype": "text/x-python",
   "name": "python",
   "nbconvert_exporter": "python",
   "pygments_lexer": "ipython3",
   "version": "3.11.7"
  }
 },
 "nbformat": 4,
 "nbformat_minor": 5
}
