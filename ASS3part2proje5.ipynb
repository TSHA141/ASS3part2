{
 "cells": [
  {
   "cell_type": "markdown",
   "id": "c094f4ca-8346-4bd8-8f95-db066add5056",
   "metadata": {},
   "source": [
    "                                            Wine Quality"
   ]
  },
  {
   "cell_type": "markdown",
   "id": "320f6e9b-b354-4203-813f-6d113367a10a",
   "metadata": {},
   "source": [
    "---Import the necessary libraries"
   ]
  },
  {
   "cell_type": "code",
   "execution_count": null,
   "id": "54887551-a273-4474-9436-7f126f61eaa9",
   "metadata": {
    "scrolled": true
   },
   "outputs": [],
   "source": [
    "import pandas as pd #For data manipulation and analysis\n",
    "import seaborn as sns #For daa visualization\n",
    "import matplotlib.pyplot as plt #For plotting graphs\n",
    "from sklearn.model_selection import tran_test_split #For splittig dataset into training and testing sets\n",
    "from sklearn.ensemble import RandomForestClassifier #For building the random forest model\n",
    "from sklearn.metrics import accuracy_score, classification_report, confusion_matrix #For evaluating the model's performance"
   ]
  },
  {
   "cell_type": "markdown",
   "id": "843b12e0-e5d9-4690-bb78-4d3d255376fa",
   "metadata": {},
   "source": [
    "---Load the dataset"
   ]
  },
  {
   "cell_type": "code",
   "execution_count": null,
   "id": "bc2e78a2-808e-4b2c-94f8-52e5ecc83bbd",
   "metadata": {},
   "outputs": [],
   "source": [
    "url = 'https://archive.ics.uci.edu/ml/machine-learning-databases/wine-quality/winequality-red.csv'\n",
    "df = pd.read_csv(url, sep=';') #Reads dataset into dataframe specifying that it is separated by a semicolon (';')"
   ]
  },
  {
   "cell_type": "markdown",
   "id": "0046e44c-1d46-4ea1-b75c-e9e2cd264953",
   "metadata": {},
   "source": [
    "---Let's explore the dataset"
   ]
  },
  {
   "cell_type": "code",
   "execution_count": null,
   "id": "31b5b58c-9447-4760-9a9e-cab6cbbcbe78",
   "metadata": {
    "scrolled": true
   },
   "outputs": [],
   "source": [
    "print(\"First few rows of the datase:\")\n",
    "print(df.head()) #Prints the first few rows of the dataset\n",
    "\n",
    "print(\"\\nSummary statistics:\")\n",
    "print(df.describe()) #Prints summary stats of the dataset to get an overview of its structure and content"
   ]
  },
  {
   "cell_type": "markdown",
   "id": "e98bc9e4-dbbb-4f21-83a6-ccf654afdc72",
   "metadata": {},
   "source": [
    "---Split the dataset into featuresand target variable"
   ]
  },
  {
   "cell_type": "code",
   "execution_count": null,
   "id": "3ae4803d-5fcb-42df-9998-50d2394c856d",
   "metadata": {
    "scrolled": true
   },
   "outputs": [],
   "source": [
    "X = df.drop('quality', axis=1) #independent variable\n",
    "y=df['quality'] # Dependent variable"
   ]
  },
  {
   "cell_type": "markdown",
   "id": "ecad4378-72b3-4da9-bde1-8200375a5bad",
   "metadata": {},
   "source": [
    "---Split the data into training and testing datasets"
   ]
  },
  {
   "cell_type": "code",
   "execution_count": null,
   "id": "efa6a93a-8f3b-4193-bf11-1f79b608fc2c",
   "metadata": {
    "scrolled": true
   },
   "outputs": [],
   "source": [
    "X_train, X_test, y_train, y_test = train_test_split(X,y,test_size=0.2,random_state=42)\n"
   ]
  },
  {
   "cell_type": "markdown",
   "id": "641f75b6-baca-453f-9ea6-c9db89411ff9",
   "metadata": {},
   "source": [
    "---Build and train the random forrest model"
   ]
  },
  {
   "cell_type": "code",
   "execution_count": null,
   "id": "f7107d45-fafb-4843-bea1-84e6a0a875ae",
   "metadata": {
    "scrolled": true
   },
   "outputs": [],
   "source": [
    "rf_classifier =  RandomForestClassifier(randoom_state=42) #Initializes the random forest classifier\n",
    "rf_classifier.fit(X_train,y_train)#trains the random forest model on the training data"
   ]
  },
  {
   "cell_type": "markdown",
   "id": "1f3ce792-d8a3-4fce-a8b4-e9ef48f66f2e",
   "metadata": {},
   "source": [
    "---Feature importance analysis"
   ]
  },
  {
   "cell_type": "code",
   "execution_count": null,
   "id": "a4d9c934-f824-448f-9c23-b6100545d579",
   "metadata": {
    "scrolled": true
   },
   "outputs": [],
   "source": [
    "#Get feature importances\n",
    "feature_importances= rf_classifier.feature_importances_\n",
    "\n",
    "#Create a DataFrame foe feature\n",
    "importance_df = pd.DataFrame({'Feature':X.columns,\n",
    "                              'Importance': feature_importances\n",
    "}).sort_values(by='Importance',ascending=False)\n",
    "\n",
    "print(\"\\nFeature importance:\")\n",
    "print(importance_df)\n",
    "\n",
    "#Plot feature importances\n",
    "plt.figure(figsize(10,6))\n",
    "sns.barplot(x='Importance',y='Feature', data=importance_df)\n",
    "plt.title('Feature Importance')\n",
    "plt.show()"
   ]
  },
  {
   "cell_type": "markdown",
   "id": "c3ff0c87-d4e9-4f36-bb4f-918a79be53ca",
   "metadata": {},
   "source": [
    "---Evaluate the Model"
   ]
  },
  {
   "cell_type": "code",
   "execution_count": null,
   "id": "f41f5c31-d32b-4548-8b5c-71b2bf129110",
   "metadata": {},
   "outputs": [],
   "source": [
    "#Evaluate the model on the testing set\n",
    "y_pred=rf_classifier.predict(X_test)\n",
    "\n",
    "#Calculate accuracy\n",
    "accuracy = accuracy_accuracy_score(y_test,y_pred)\n",
    "print(\"Accuracy:\", accuracy)\n",
    "\n",
    "#Generates and prints confusion matrix and classification report\n",
    "cm = confusion_matrix(y_test, y_pred)\n",
    "print(\"\\nConfusion Matrix:\\n\", cm)\n",
    "\n",
    "cr = classification_report(y_test,y_pred)\n",
    "print(\"\\nClassification Report:\\n\", cr)"
   ]
  }
 ],
 "metadata": {
  "kernelspec": {
   "display_name": "Python 3 (ipykernel)",
   "language": "python",
   "name": "python3"
  },
  "language_info": {
   "codemirror_mode": {
    "name": "ipython",
    "version": 3
   },
   "file_extension": ".py",
   "mimetype": "text/x-python",
   "name": "python",
   "nbconvert_exporter": "python",
   "pygments_lexer": "ipython3",
   "version": "3.11.7"
  }
 },
 "nbformat": 4,
 "nbformat_minor": 5
}
