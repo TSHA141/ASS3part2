{
 "cells": [
  {
   "cell_type": "markdown",
   "id": "981bf631-4c11-4310-82f2-64cd7391e436",
   "metadata": {},
   "source": [
    "                                Decision Tree Loan Approval"
   ]
  },
  {
   "cell_type": "code",
   "execution_count": 1,
   "id": "5aa4ad7f-d8c7-409a-b41d-3e793dc080e8",
   "metadata": {},
   "outputs": [],
   "source": [
    "#Import all the necessary libraries\n",
    "import pandas as pd #This is for data manipulation and analysis\n",
    "from sklearn.model_selection import train_test_split #For splitting tje dataset into training  and testing sets\n",
    "from sklearn.tree import DecisionTreeClassifier #For building the decision tree model\n",
    "from sklearn.metrics import accuracy_score, classification_report, confusion_matrix #For evaluating the model's performance"
   ]
  },
  {
   "cell_type": "markdown",
   "id": "f7464363-b3d3-448e-b00e-d5ea97eba7a2",
   "metadata": {},
   "source": [
    "---Let's load the Dataset(We will be using the 'German Credit' dataset)"
   ]
  },
  {
   "cell_type": "code",
   "execution_count": null,
   "id": "2a5a94a3-b866-40ef-9afd-9324248b13cb",
   "metadata": {},
   "outputs": [],
   "source": [
    "url = 'https://archive.ics.uci.edu/ml/machine-learning-databases/statlog/german/german.data' #This is where we find the German dataset\n",
    "column_names = ['existing_account', 'duration', 'credit_history', 'purpose','credit_history','purpose','credit_history','savings_account','employment_since','installment_rate','personal_status_sex','other_debtors','property','age','other_installment_plans','housing','existing_credits','job','num_dependants','telephone','foreign_worker','target']#LIst of column names for the dataset\n",
    "df = pd.read_csv(url,sep=' ', header=None, names=column_names)#Reads the dataset into a dataframe which specifies that it's separated by space(' ')"
   ]
  },
  {
   "cell_type": "markdown",
   "id": "7834adbd-a1c4-45fb-a0bd-f6ab1e1af680",
   "metadata": {},
   "source": [
    "---Let's explore the dataset"
   ]
  },
  {
   "cell_type": "code",
   "execution_count": null,
   "id": "bb0afedb-fc76-4998-961b-14a7788ddd95",
   "metadata": {},
   "outputs": [],
   "source": [
    "print(\"First few rows of the dataset are as follows: \")\n",
    "print(df.head()) #Displays the first few row of the dataset to get a bsic overview of it's structure and contents"
   ]
  },
  {
   "cell_type": "markdown",
   "id": "aa6881b2-962d-4991-b7a7-1371d09848ae",
   "metadata": {},
   "source": [
    "---We will split the Dataset into Features and Target Variable"
   ]
  },
  {
   "cell_type": "code",
   "execution_count": null,
   "id": "eb175ac0-ab0c-4448-9dd6-892a651cc3d7",
   "metadata": {},
   "outputs": [],
   "source": [
    "X = df.drop('target', axis=!)#Contains the independent variables\n",
    "y = df['target']#Contains the dependent variable"
   ]
  },
  {
   "cell_type": "markdown",
   "id": "2458b36b-a9a0-45fe-b74b-010c01cb66fb",
   "metadata": {},
   "source": [
    "---Split the data into training and testing dataets"
   ]
  },
  {
   "cell_type": "code",
   "execution_count": null,
   "id": "60b71a19-383b-41f6-adfa-939cef358b3f",
   "metadata": {
    "scrolled": true
   },
   "outputs": [],
   "source": [
    "X_Train, Xtest, y_train, y_test= train_test_split(X,y,test_size=0.2,random_state=42)"
   ]
  },
  {
   "cell_type": "markdown",
   "id": "027f9518-a4d3-42b3-ac7c-feba8d7de2fe",
   "metadata": {},
   "source": [
    "---Build and train the decision tree model"
   ]
  },
  {
   "cell_type": "code",
   "execution_count": null,
   "id": "29e431ce-b82a-4412-b57f-2f32f2a8c1e9",
   "metadata": {
    "scrolled": true
   },
   "outputs": [],
   "source": [
    "dt_classifier = DecisionTreeClassifier(random_state=42)#DecisionTreeClassifier initializes the decision tree classifier\n",
    "dt_classifier.fit(X_train, y_train)#fit trains the decision tree model on the training data"
   ]
  },
  {
   "cell_type": "markdown",
   "id": "39328057-ebde-4c2f-bed0-79e5521f38e5",
   "metadata": {},
   "source": [
    "---Evaluate the model on the testing set"
   ]
  },
  {
   "cell_type": "code",
   "execution_count": null,
   "id": "07ae2d41-d15e-4a06-b571-291fd5a696ef",
   "metadata": {
    "scrolled": true
   },
   "outputs": [],
   "source": [
    "y_pred = dt_classifier.predict(X_test) #predicts the target variable using the trained model on the testing features"
   ]
  },
  {
   "cell_type": "markdown",
   "id": "db72d6e8-eadf-4572-969a-96fb9032c749",
   "metadata": {},
   "source": [
    "---Calculate accuracy and generate evaluatiom ,etrics"
   ]
  },
  {
   "cell_type": "code",
   "execution_count": null,
   "id": "5a911b19-4cf9-4b8f-93b3-124a8e3f354a",
   "metadata": {},
   "outputs": [],
   "source": [
    "accuracy = accuracy_score(y_test,y_pred) #calculates accuracy of model on the testing set\n",
    "print(\"Accuracy:\", accuracy)\n",
    "cm = confusion_matrix(y_test,y_pred)#Generates confusion matrix to evaluate the performance of the model\n",
    "print(\"\\nConfusion Matrix:\\n\", cm)\n",
    "\n",
    "cr = classification_report(y_test, y_pred)#Generates a classification report with precision,recall.F1-score and support metrics\n",
    "print(\"\\nClassifiction Report:\\n\", cr)"
   ]
  }
 ],
 "metadata": {
  "kernelspec": {
   "display_name": "Python 3 (ipykernel)",
   "language": "python",
   "name": "python3"
  },
  "language_info": {
   "codemirror_mode": {
    "name": "ipython",
    "version": 3
   },
   "file_extension": ".py",
   "mimetype": "text/x-python",
   "name": "python",
   "nbconvert_exporter": "python",
   "pygments_lexer": "ipython3",
   "version": "3.11.7"
  }
 },
 "nbformat": 4,
 "nbformat_minor": 5
}
