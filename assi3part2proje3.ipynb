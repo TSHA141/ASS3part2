{
 "cells": [
  {
   "cell_type": "markdown",
   "id": "d3502a3c-cc60-4708-9e15-2e9a78093706",
   "metadata": {},
   "source": [
    "##K Nearest Neighbours Classifier\n"
   ]
  },
  {
   "cell_type": "code",
   "execution_count": null,
   "id": "2c39420f-10ab-4604-85cc-893f5920832c",
   "metadata": {},
   "outputs": [],
   "source": [
    "#Import the necessary libraries\n",
    "import numpy as np\n",
    "import pandas as pd\n",
    "import matplotlib.pyplot as plt\n",
    "import seaborn as sns\n",
    "from sklearn.model_selection import train_test_split\n",
    "from sklearn.reprocessing import StandardScaler\n",
    "from sklearn.neighbors import KNeighborsClassifier\n",
    "from sklearn.metric import confusin_matrix, classification_report, roc_curve, roc_auc_score\n",
    "from sklearn.model_selection import GridSearchCV\n",
    "from imblearn.over_sampling import SMOTE"
   ]
  },
  {
   "cell_type": "markdown",
   "id": "3ae0b56b-b3f2-4a27-8736-bd122ac7862e",
   "metadata": {},
   "source": [
    "Let's load trhe dataset, we will use the URL here as well, we will also be naming the different column titles"
   ]
  },
  {
   "cell_type": "code",
   "execution_count": null,
   "id": "cba36ef3-e536-4d4d-88d0-d37a8d41b259",
   "metadata": {},
   "outputs": [],
   "source": [
    "url = 'https://raw.githubusercontent.com/jbrownlee/Datasets/master/pima-indians-diabetes.data.csv'\n",
    "column_names = ['Pregnancies','Glucose','BloodPressure','SkinThickness','Insulin','BMI','DiabetesPedigreeFunction','Age','Outcome']\n",
    "df = pd.read_csv(url, header=None,names=column_names)\n",
    "\n",
    "#Let's view the first view rows of the dtaset so that we can have a visual feel for the dataset\n",
    "print(\"First few rows of the dataset: \")\n",
    "print(df.head())\n",
    "\n",
    "#Check for missing values\n",
    "missing_values = df.isnull().sum()\n",
    "print(\"\\nMissing values in each column:\")\n",
    "print(missing_values)\n"
   ]
  },
  {
   "cell_type": "markdown",
   "id": "9c6744d4-8031-45e7-8d0f-56e7f5495ab1",
   "metadata": {},
   "source": [
    "Exploratory Data Analysis so that we can better undertand our dataset"
   ]
  },
  {
   "cell_type": "code",
   "execution_count": null,
   "id": "572c2476-2fd5-481f-8f99-f074bb3bebd8",
   "metadata": {
    "scrolled": true
   },
   "outputs": [],
   "source": [
    "#Let's plot the outcome distribution\n",
    "plt.figure(figsize=(10,6))\n",
    "sns.countplot(x='Outcome', data = df)\n",
    "plt.title('Outcome Count')\n",
    "plt.show()\n",
    "\n",
    "#We display a histogram for each feature\n",
    "df.hist(bins=30, figsize=(20,15))\n",
    "plt.show()\n",
    "\n",
    "#Correlation matrix\n",
    "plt.figure(figsize=(12,8))\n",
    "sns.heatmap(df.corr(),annot=True,fmt='.2f',cmap='coolwarm')\n",
    "plt.title('Correlation Matrix')\n",
    "plt.show()"
   ]
  },
  {
   "cell_type": "markdown",
   "id": "f67573c7-b762-4a5a-92c5-80db66cd26f5",
   "metadata": {},
   "source": [
    "Data Balancing and Scaling"
   ]
  },
  {
   "cell_type": "code",
   "execution_count": null,
   "id": "97c7b1b4-b61a-4512-87ba-43fd45a6ff9f",
   "metadata": {},
   "outputs": [],
   "source": [
    "#Separate features and target variable\n",
    "X= df.drop('Outcome' , axis=1)\n",
    "y = df['Outcome']\n",
    "\n",
    "#Handle class imbalance using SMOTE\n",
    "smote = SMOTE(random_state=42)\n",
    "X_resampled, y_resampled = smote.fit_resample(X,y)\n",
    "\n",
    "#Split the resampled data into training and testing sets\n",
    "X_train, X_test, y_train, y_test= train_test_split(X_resampled,yresampled, test_size=0.2, random_state=42)\n",
    "\n",
    "#Scale the feature\n",
    "scaler = StandardScaler()\n",
    "X_train = scaler.fit_transform(X_train)\n",
    "X_test = scaler.transform(X_test)"
   ]
  },
  {
   "cell_type": "markdown",
   "id": "1c18e4d6-a153-4b21-8b0c-b12959d3ca37",
   "metadata": {},
   "source": [
    "Model Building and Training"
   ]
  },
  {
   "cell_type": "markdown",
   "id": "da78d7ed-3e6b-4480-af5f-d64d901b110e",
   "metadata": {},
   "source": [
    "We will build the K Nearest Neighbours (KNN) model"
   ]
  },
  {
   "cell_type": "code",
   "execution_count": null,
   "id": "aa0af924-7a20-4985-bce5-dfeef95e1bb4",
   "metadata": {},
   "outputs": [],
   "source": [
    "knn = KNeighborsClassifier()\n",
    "knn.fit(X_train, y_train)"
   ]
  },
  {
   "cell_type": "markdown",
   "id": "0aafb9db-aa2c-46b1-adaa-0f1e3a1d89f5",
   "metadata": {},
   "source": [
    "Model Evaluation"
   ]
  },
  {
   "cell_type": "code",
   "execution_count": null,
   "id": "c6a9ffaa-bfbf-4671-9ef3-9274d960d0f2",
   "metadata": {
    "scrolled": true
   },
   "outputs": [],
   "source": [
    "#Predict diabetes on the test data\n",
    "y_pred = knn.predict(X_test)\n",
    "y_pred_proba=knn.predict_proba(X_test)[:, 1]\n",
    "\n",
    "#Print Confusion Matrix\n",
    "cm= confusion_matrix(y_test,y_pred)\n",
    "print(\"\\nConfusion Matrix:\\n\", cm)\n",
    "\n",
    "#Print Classification Report\n",
    "cr = classifcation_report(y_test,y_pred)\n",
    "print(\"\\nClassification Report: \\n\", cr)\n",
    "\n",
    "#ROC Curve\n",
    "fpr, tpr, thresholds= roc_curve(y_test, y_pred_proba)\n",
    "plt.figure(figsize(10,6))\n",
    "plt.plot(fpr,tpr, marker='*')\n",
    "plt.xlabel('False Positive Rate')\n",
    "plt.ylabel('True Positive Rate')\n",
    "plt.title('ROC Curve')\n",
    "plt.show()\n",
    "\n",
    "#AUC Score\n",
    "auc = roc_auc)score(y_test,ypred_proba)\n",
    "print(f\"\\nAUC Score: {auc}\")"
   ]
  },
  {
   "cell_type": "markdown",
   "id": "2ce09fbd-800a-44c0-b748-98a258ef27e0",
   "metadata": {},
   "source": [
    "Hyperparameter tuning with Cross-Validation"
   ]
  },
  {
   "cell_type": "code",
   "execution_count": null,
   "id": "9b30f8a5-8791-4d19-97e9-49649ae83532",
   "metadata": {},
   "outputs": [],
   "source": [
    "#Define the parameter grid\n",
    "param_grid={'n_neighbours:[3,5,7,9,11],\n",
    "            'weights':['uniform','distance']\n",
    "           }\n",
    "#Initialize GridSearchCV\n",
    "grid_search= GridSearchCV(KNeighborsClassifier(),\n",
    "                          param_grid, cv5, scoring= 'roc_auc')\n",
    "\n",
    "#Fit GridSearchCV to the training data\n",
    "grid_search.fit(X_train, y_train)\n",
    "\n",
    "#Get the optimal model from Grid search\n",
    "best_knn=grid_search.best_estimator_\n",
    "\n",
    "#Print best parameters\n",
    "print(\"Best parameters found by GridSearchCV:\")\n",
    "print(grid_search.best_params_)\n",
    "\n",
    "#Evaluate the best model\n",
    "y_pred_best=best_knn.predict(X_test)\n",
    "y_red_proba_best=best_knn.predict_proba(X_test)[:,1]\n",
    "\n",
    "#Confusion Matrix for the best model\n",
    "best_cm = confusion_matrix(y_test,y_pred_best)\n",
    "print(\"Confusion Matrix for the best model:\\n\", best_cm)\n",
    "\n",
    "#Classification Report for the best model\n",
    "best_cr = classification_report(y_test,y_pred_best)\n",
    "print(\"Classification Report for the best model:\\n\", best_cr)\n",
    "\n",
    "#ROC Curve for the best model\n",
    "fpr_best, tpr_best, thresholds_best= roc_curve(y_test,y_pred_proba_best)\n",
    "plt.figure(figsize=(10,6))\n",
    "plt.plot(fpr_best,tpr_best,marker='*')\n",
    "plt.xlabel('False Positive Rate')\n",
    "plt.ylabel('True Positive Rate')\n",
    "plt.title('ROC Curve for the best Model')\n",
    "\n",
    "#AUC Score for the best model\n",
    "best_auc = roc_auc_score(y_test, y_pred_proba_best)\n",
    "print(f\"AUC Score for the best model: {best_auc}\")\n",
    "\n",
    "      "
   ]
  }
 ],
 "metadata": {
  "kernelspec": {
   "display_name": "Python 3 (ipykernel)",
   "language": "python",
   "name": "python3"
  },
  "language_info": {
   "codemirror_mode": {
    "name": "ipython",
    "version": 3
   },
   "file_extension": ".py",
   "mimetype": "text/x-python",
   "name": "python",
   "nbconvert_exporter": "python",
   "pygments_lexer": "ipython3",
   "version": "3.11.7"
  }
 },
 "nbformat": 4,
 "nbformat_minor": 5
}
