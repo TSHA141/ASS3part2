{
 "cells": [
  {
   "cell_type": "raw",
   "id": "4350f783-baba-4958-82ee-4188d028cd5c",
   "metadata": {},
   "source": [
    "                                    K-means clustering for mall customers"
   ]
  },
  {
   "cell_type": "markdown",
   "id": "4505000f-b2a9-44b3-ac70-895364e175d7",
   "metadata": {},
   "source": [
    "---Import necessary libraries"
   ]
  },
  {
   "cell_type": "code",
   "execution_count": null,
   "id": "19be898a-082c-48a0-83d0-28e580932fcd",
   "metadata": {},
   "outputs": [],
   "source": [
    "import pandas as pd #Data manipulation and analysis\n",
    "import seaborn as sns #For data visualization\n",
    "import matplotlib.pyply as plt #For plotting graphs\n",
    "from sklearn.cluster import KMeans #For building the KMeans clustering model\n",
    "from sklearn.reprocessing import StandardScaler #For feature scaling"
   ]
  },
  {
   "cell_type": "markdown",
   "id": "5827f4a3-4b0d-490b-9a35-dc95f10ce6a6",
   "metadata": {},
   "source": [
    "---Load dataset"
   ]
  },
  {
   "cell_type": "code",
   "execution_count": null,
   "id": "1e86f92c-5f83-4fe8-a6fc-f9e181b7517f",
   "metadata": {
    "scrolled": true
   },
   "outputs": [],
   "source": [
    "#Load datase for mall customers from github\n",
    "url = 'https://raw.githubusercontent.com/jbrownlee/Datasets/master/mall_customers.csv'\n",
    "df = pd.read_csv(url)) #reads dataset into a dataframe\n",
    "\n",
    "#Display the first few rows of the dataset\n",
    "print(\"First few rows of the datase: \")\n",
    "print(df.head())"
   ]
  },
  {
   "cell_type": "markdown",
   "id": "99262451-447d-4f7c-b7f1-b2d037125d5f",
   "metadata": {},
   "source": [
    "---Explore the dataset"
   ]
  },
  {
   "cell_type": "code",
   "execution_count": null,
   "id": "80f86050-99fa-4d49-b2e3-9c79573f0e70",
   "metadata": {
    "scrolled": true
   },
   "outputs": [],
   "source": [
    "#Summary statistics of the dataset\n",
    "print(\"\\nSummary statistics:\")\n",
    "print(df.describe())\n",
    "\n",
    "#Check for missing values\n",
    "print(\"\\nMissing values:\")\n",
    "print(df.isnull().sum())\n",
    "\n",
    "#Visualize the distribution of Age,Annual Income and Spending Score\n",
    "plt.subplot(1,3,1)\n",
    "sns.histplot(df['Age'], kde=True)\n",
    "plt.title('Age Distribution')\n",
    "\n",
    "plt.subplot(1,3,2)\n",
    "sns.histplot(df['Annual Income (k$)'], kkde=True)\n",
    "plt.title('Annual Income Distribution')\n",
    "\n",
    "plt.subplot(1,3,3)\n",
    "sns.histplot(df['Spending Score(1-100)'], kde=True)\n",
    "plt.title('Spending Score Distribution')\n",
    "\n",
    "plt.tight_layout()\n",
    "plt.show()         "
   ]
  },
  {
   "cell_type": "markdown",
   "id": "7c717af9-3298-40a7-974d-8b334331da23",
   "metadata": {},
   "source": [
    "---Feature engineering"
   ]
  },
  {
   "cell_type": "code",
   "execution_count": null,
   "id": "4b6d7503-97b7-4579-9bd4-e52d17a8d024",
   "metadata": {},
   "outputs": [],
   "source": [
    "#We will use 'Annual Income (k$) and 'Spending Score (1-100) for clustering\n",
    "features = ['Annual Income (k$)', 'Spending Score (1-100)']\n",
    "X = df[features]\n",
    "\n",
    "#Standardize the feautres\n",
    "scaler = StandardScaler()\n",
    "Xscaled = scaler.fit_transform(X)"
   ]
  },
  {
   "cell_type": "markdown",
   "id": "77d8e5ed-356b-4f9d-8a69-5601de408256",
   "metadata": {},
   "source": [
    "--- DEtermine the optimal number of clusters"
   ]
  },
  {
   "cell_type": "code",
   "execution_count": null,
   "id": "885d9a0a-a67b-4b3b-a9a1-eb60af925757",
   "metadata": {},
   "outputs": [],
   "source": [
    "#Use the elbow method to find the optimal number of clusters\n",
    "inertia = []\n",
    "K = ranger(1,11)\n",
    "for k in K:\n",
    "    kmeans = KMeans(n_clusters=k,random_state=42)\n",
    "    kmeans.fit(X_scaled)\n",
    "    inertia.append(kmeans.inertia_)\n",
    "    \n",
    "#Plot the elbow curve\n",
    "plt.figure(figsize=(8,5))\n",
    "plt.plot(K, inertia, 'bo-')\n",
    "plt.xlabel('Number of cluster')\n",
    "plt.ylabel('Inertia')\n",
    "plt.title('Elbow Method For Optimal K')\n",
    "plt.show()"
   ]
  },
  {
   "cell_type": "code",
   "execution_count": null,
   "id": "5ff54d0f-8061-4d16-9460-0303442e78a0",
   "metadata": {},
   "outputs": [],
   "source": [
    "---Build and train the K-means Model"
   ]
  },
  {
   "cell_type": "code",
   "execution_count": null,
   "id": "e650f1e1-bdde-4dc7-8cd5-c85e2bfb9d98",
   "metadata": {},
   "outputs": [],
   "source": [
    "#From the elbow methos let us choose k=5\n",
    "kmeans = KMeans(n_clusters=5,random_state=42)\n",
    "y_kmeans = kmeans.fit_predict(X_scaled)\n",
    "\n",
    "#Add the cluster label to use\n",
    "df['Cluster''] = y_kmeans                              "
   ]
  },
  {
   "cell_type": "markdown",
   "id": "620871b7-14a1-4a5a-a6d9-da061cef41cf",
   "metadata": {},
   "source": [
    "---Visualize the clusters"
   ]
  },
  {
   "cell_type": "code",
   "execution_count": null,
   "id": "baa684b7-9f3f-4767-848e-0369c854e1fd",
   "metadata": {},
   "outputs": [],
   "source": [
    "#Plot the clusters \n",
    "plt.figure(figsize=(10,6))\n",
    "sns.scatterplot(data=df, x='Annual Income (k$)', y='Spending Score (1-100)', hue= 'Cluster',palette='viridis', s=100, alpha=0.7)\n",
    "plt.title('Customer Segments')\n",
    "plt.xlabel('Annul Income (k$)')\n",
    "plt.ylabel('Spending Score(1-100)')\n",
    "plt.legend()\n",
    "plt.show()"
   ]
  },
  {
   "cell_type": "markdown",
   "id": "58b1b854-d4eb-4e3e-b99f-153e48c3faa6",
   "metadata": {},
   "source": [
    "---Analyze the characteristics of each cluster"
   ]
  },
  {
   "cell_type": "code",
   "execution_count": null,
   "id": "58ea8472-b386-4fd9-b610-6b71e16a3e3a",
   "metadata": {},
   "outputs": [],
   "source": [
    "#Analyze the characteristics of each cluster\n",
    "cluster_summary = df.groupby('Cluster')\n",
    "[features].mean()\n",
    "print(\"\\nCluster characteristics:\")\n",
    "print(cluster_summary)"
   ]
  }
 ],
 "metadata": {
  "kernelspec": {
   "display_name": "Python 3 (ipykernel)",
   "language": "python",
   "name": "python3"
  },
  "language_info": {
   "codemirror_mode": {
    "name": "ipython",
    "version": 3
   },
   "file_extension": ".py",
   "mimetype": "text/x-python",
   "name": "python",
   "nbconvert_exporter": "python",
   "pygments_lexer": "ipython3",
   "version": "3.11.7"
  }
 },
 "nbformat": 4,
 "nbformat_minor": 5
}
